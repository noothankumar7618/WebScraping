{
 "cells": [
  {
   "cell_type": "code",
   "execution_count": 1,
   "metadata": {},
   "outputs": [
    {
     "name": "stdout",
     "output_type": "stream",
     "text": [
      "Collecting autoscraper\n",
      "  Downloading autoscraper-1.1.12-py3-none-any.whl (10 kB)\n",
      "Collecting bs4\n",
      "  Downloading bs4-0.0.1.tar.gz (1.1 kB)\n",
      "Requirement already satisfied: requests in c:\\programdata\\anaconda3\\lib\\site-packages (from autoscraper) (2.24.0)\n",
      "Requirement already satisfied: lxml in c:\\programdata\\anaconda3\\lib\\site-packages (from autoscraper) (4.6.1)\n",
      "Requirement already satisfied: beautifulsoup4 in c:\\programdata\\anaconda3\\lib\\site-packages (from bs4->autoscraper) (4.9.3)\n",
      "Requirement already satisfied: chardet<4,>=3.0.2 in c:\\programdata\\anaconda3\\lib\\site-packages (from requests->autoscraper) (3.0.4)\n",
      "Requirement already satisfied: urllib3!=1.25.0,!=1.25.1,<1.26,>=1.21.1 in c:\\programdata\\anaconda3\\lib\\site-packages (from requests->autoscraper) (1.25.11)\n",
      "Requirement already satisfied: idna<3,>=2.5 in c:\\programdata\\anaconda3\\lib\\site-packages (from requests->autoscraper) (2.10)\n",
      "Requirement already satisfied: certifi>=2017.4.17 in c:\\programdata\\anaconda3\\lib\\site-packages (from requests->autoscraper) (2020.6.20)\n",
      "Requirement already satisfied: soupsieve>1.2; python_version >= \"3.0\" in c:\\programdata\\anaconda3\\lib\\site-packages (from beautifulsoup4->bs4->autoscraper) (2.0.1)\n",
      "Building wheels for collected packages: bs4\n",
      "  Building wheel for bs4 (setup.py): started\n",
      "  Building wheel for bs4 (setup.py): finished with status 'done'\n",
      "  Created wheel for bs4: filename=bs4-0.0.1-py3-none-any.whl size=1277 sha256=cd3425ea64119c63b8eed2d1c6fbe915c902bd4e7998c2918dbe5c1734a13bc9\n",
      "  Stored in directory: c:\\users\\pgnoo\\appdata\\local\\pip\\cache\\wheels\\75\\78\\21\\68b124549c9bdc94f822c02fb9aa3578a669843f9767776bca\n",
      "Successfully built bs4\n",
      "Installing collected packages: bs4, autoscraper\n",
      "Successfully installed autoscraper-1.1.12 bs4-0.0.1\n"
     ]
    }
   ],
   "source": [
    "!pip install autoscraper"
   ]
  },
  {
   "cell_type": "code",
   "execution_count": 1,
   "metadata": {},
   "outputs": [],
   "source": [
    "from autoscraper.auto_scraper import AutoScraper"
   ]
  },
  {
   "cell_type": "code",
   "execution_count": 2,
   "metadata": {},
   "outputs": [],
   "source": [
    "amazon_url=\"https://www.amazon.in/s?k=iphones\"\n",
    "\n",
    "fetch_list=[\"₹46,999\",\"Apple iPhone 11 (64GB) - Black\"]"
   ]
  },
  {
   "cell_type": "code",
   "execution_count": 3,
   "metadata": {},
   "outputs": [
    {
     "name": "stdout",
     "output_type": "stream",
     "text": [
      "['₹46,999', '₹49,900', '₹80,990', '₹89,900', '₹54,900', '₹11,999', '₹24,999', '₹58,999', '₹69,900', '₹53,999', '₹65,900', '₹60,900', '₹59,900', '₹1,16,900', '₹1,19,900', '₹42,999', '₹57,800', '₹49,999', 'Apple iPhone 11 (64GB) - Black', 'Apple iPhone 11 (64GB) - White', 'Apple iPhone 13 (256 GB) - Green', 'Apple iPhone 11 (128GB) - Black', '5s Gold 16GB Apple iPhone with 8 Mega Pixel Camera', 'Apple iPhone 12 (128GB) - Blue', 'Apple iPhone 12 (64GB) - White', 'Apple iPhone 11 (128GB) - White', 'Apple iPhone 12 (128GB) - Purple', 'Apple iPhone 11 (128GB) - Purple', 'Apple iPhone 11 (128GB) - Green', 'Apple iPhone 13 Pro (128GB) - Sierra Blue', 'Apple iPhone XR (128GB) - Coral', 'Apple iPhone 11 (64GB) - Purple', 'Apple iPhone 12 Mini (64GB) - (Product) RED', 'Apple iPhone 11 (128GB) - (Product) RED']\n"
     ]
    }
   ],
   "source": [
    "scraper = AutoScraper()\n",
    "result = scraper.build(url=amazon_url, wanted_list=fetch_list)\n",
    "print(result)"
   ]
  },
  {
   "cell_type": "code",
   "execution_count": 71,
   "metadata": {},
   "outputs": [
    {
     "data": {
      "text/plain": [
       "{'rule_gm6r': ['₹399',\n",
       "  '₹999',\n",
       "  '₹299',\n",
       "  '₹700',\n",
       "  '₹1,699',\n",
       "  '₹4,999',\n",
       "  '₹599',\n",
       "  '₹1,399',\n",
       "  '₹159',\n",
       "  '₹399',\n",
       "  '₹749',\n",
       "  '₹2,490',\n",
       "  '₹1,499',\n",
       "  '₹3,990',\n",
       "  '₹1,399',\n",
       "  '₹3,990',\n",
       "  '₹899',\n",
       "  '₹2,990',\n",
       "  '₹1,399',\n",
       "  '₹3,990',\n",
       "  '₹199',\n",
       "  '₹899',\n",
       "  '₹349',\n",
       "  '₹1,290',\n",
       "  '₹559',\n",
       "  '₹2,490',\n",
       "  '₹449',\n",
       "  '₹1,490',\n",
       "  '₹299',\n",
       "  '₹399',\n",
       "  '₹949',\n",
       "  '₹2,499'],\n",
       " 'rule_zi39': ['₹399',\n",
       "  '₹999',\n",
       "  '₹299',\n",
       "  '₹700',\n",
       "  '₹1,699',\n",
       "  '₹4,999',\n",
       "  '₹599',\n",
       "  '₹1,399',\n",
       "  '₹159',\n",
       "  '₹399',\n",
       "  '₹749',\n",
       "  '₹2,490',\n",
       "  '₹1,499',\n",
       "  '₹3,990',\n",
       "  '₹1,399',\n",
       "  '₹3,990',\n",
       "  '₹899',\n",
       "  '₹2,990',\n",
       "  '₹1,399',\n",
       "  '₹3,990',\n",
       "  '₹199',\n",
       "  '₹899',\n",
       "  '₹349',\n",
       "  '₹1,290',\n",
       "  '₹559',\n",
       "  '₹2,490',\n",
       "  '₹449',\n",
       "  '₹1,490',\n",
       "  '₹299',\n",
       "  '₹399',\n",
       "  '₹949',\n",
       "  '₹2,499'],\n",
       " 'rule_o8rx': ['₹399',\n",
       "  '₹999',\n",
       "  '₹299',\n",
       "  '₹700',\n",
       "  '₹1,699',\n",
       "  '₹4,999',\n",
       "  '₹599',\n",
       "  '₹1,399',\n",
       "  '₹159',\n",
       "  '₹399',\n",
       "  '₹749',\n",
       "  '₹2,490',\n",
       "  '₹1,499',\n",
       "  '₹3,990',\n",
       "  '₹1,399',\n",
       "  '₹3,990',\n",
       "  '₹899',\n",
       "  '₹2,990',\n",
       "  '₹1,399',\n",
       "  '₹3,990',\n",
       "  '₹199',\n",
       "  '₹899',\n",
       "  '₹349',\n",
       "  '₹1,290',\n",
       "  '₹559',\n",
       "  '₹2,490',\n",
       "  '₹449',\n",
       "  '₹1,490',\n",
       "  '₹299',\n",
       "  '₹399',\n",
       "  '₹949',\n",
       "  '₹2,499'],\n",
       " 'rule_u1ev': ['₹399',\n",
       "  '₹999',\n",
       "  '₹299',\n",
       "  '₹700',\n",
       "  '₹1,699',\n",
       "  '₹4,999',\n",
       "  '₹599',\n",
       "  '₹1,399',\n",
       "  '₹159',\n",
       "  '₹399',\n",
       "  '₹749',\n",
       "  '₹2,490',\n",
       "  '₹1,499',\n",
       "  '₹3,990',\n",
       "  '₹1,399',\n",
       "  '₹3,990',\n",
       "  '₹899',\n",
       "  '₹2,990',\n",
       "  '₹1,399',\n",
       "  '₹3,990',\n",
       "  '₹199',\n",
       "  '₹899',\n",
       "  '₹349',\n",
       "  '₹1,290',\n",
       "  '₹559',\n",
       "  '₹2,490',\n",
       "  '₹449',\n",
       "  '₹1,490',\n",
       "  '₹299',\n",
       "  '₹399',\n",
       "  '₹949',\n",
       "  '₹2,499'],\n",
       " 'rule_jqlr': ['₹1,499',\n",
       "  '₹3,990',\n",
       "  '₹749',\n",
       "  '₹2,490',\n",
       "  '₹1,499',\n",
       "  '₹2,490',\n",
       "  '₹1,999',\n",
       "  '₹4,999',\n",
       "  '₹1,499',\n",
       "  '₹5,499',\n",
       "  '₹1,499',\n",
       "  '₹2,999'],\n",
       " 'rule_j4im': ['₹1,499',\n",
       "  '₹3,990',\n",
       "  '₹749',\n",
       "  '₹2,490',\n",
       "  '₹1,499',\n",
       "  '₹2,490',\n",
       "  '₹1,999',\n",
       "  '₹4,999',\n",
       "  '₹1,499',\n",
       "  '₹5,499',\n",
       "  '₹1,499',\n",
       "  '₹2,999'],\n",
       " 'rule_hsge': ['Amazon\\'s Choicefor \"headphones\"',\n",
       "  'boAt Bassheads 100 Wired in Ear Earphones with Mic (Mint Green)',\n",
       "  'WORRICOW Wireless Bluetooth Neckband Built-in Mic with Thunder Beat Noise Cancellation Headphone for All Android Smartphone & iOS & Mobile Holder',\n",
       "  'Best sellerin Over-Ear Headphones',\n",
       "  'boAt Rockerz 550 Bluetooth Wireless Over Ear Headphones with Upto 20 Hours Playback, 50MM Drivers, Soft Padded Ear Cushions and Physical Noise Isolation with Mic (Black Symphony)',\n",
       "  'ZEBRONICS Zeb-Thunder Wireless BT Headphone Comes with 40mm Drivers, AUX Connectivity, Built in FM, Call Function, 9Hrs* Playback time and Supports Micro SD Card(Sea Green)',\n",
       "  'ZEBRONICS Zeb-Bro in Ear Wired Earphones with Mic, 3.5mm Audio Jack, 10mm Drivers, Phone/Tablet Compatible(Blue)',\n",
       "  'Best sellerin On-Ear Headphones',\n",
       "  'boAt Bassheads 900 Wired On Ear Headphones with Mic (Carbon Black)',\n",
       "  'boAt Rockerz 450 Bluetooth Wireless On Ear Headphones with Mic, Upto 15 Hours Playback, 40MM Drivers, Padded Ear Cushions and Dual Modes (Luscious Black)',\n",
       "  'boAt Rockerz 510 Bluetooth Wireless Over Ear Headphones With Mic With Upto 20 Hours Playback, 50Mm Drivers, Padded Ear Cushions And Dual Modes(Furious Blue)',\n",
       "  'boAt Rockerz 400 Bluetooth Wireless On Ear Headphones With Mic With Upto 8 Hours Playback & Soft Padded Ear Cushions(Black/Blue)',\n",
       "  'boAt Rockerz 450 Bluetooth Wireless On Ear Headphones with Mic and Upto 15 Hours Playback, 40MM Drivers, Padded Ear Cushions and Dual Modes (Aqua Blue)',\n",
       "  'pTron Pride Lite HBE (High Bass Earphones) in-Ear Wired Headphones with in-line Mic, 10mm Powerful Driver for Stereo Audio, Noise Cancelling Headset with 1.2m Tangle-Free Cable & 3.5mm Aux - (Blue)',\n",
       "  'boAt Bassheads 102 in Ear Wired Earphones with Mic(Jazzy Blue)',\n",
       "  'Boult Audio Bass Buds Q2 Lightweight Stereo Wired Over Ear Headphones Set with Mic with Deep Bass, Comfortable Ear Cushions, & Long Cord (Black)',\n",
       "  'boAt Bassheads 242 in Ear Wired Earphones with Mic(Orange)',\n",
       "  'Philips Audio SHE1505 Wired in Ear Earphones with Mic (Black)',\n",
       "  'boAt Rockerz 370 Bluetooth Wireless On Ear Headphone with Mic (Fiery Red)'],\n",
       " 'rule_0lud': ['boAt Bassheads 100 Wired in Ear Earphones with Mic (Mint Green)',\n",
       "  'WORRICOW Wireless Bluetooth Neckband Built-in Mic with Thunder Beat Noise Cancellation Headphone for All Android Smartphon...',\n",
       "  'boAt Rockerz 550 Bluetooth Wireless Over Ear Headphones with Upto 20 Hours Playback, 50MM Drivers, Soft Padded Ear Cushion...',\n",
       "  'ZEBRONICS Zeb-Thunder Wireless BT Headphone Comes with 40mm Drivers, AUX Connectivity, Built in FM, Call Function, 9Hrs* P...',\n",
       "  'ZEBRONICS Zeb-Bro in Ear Wired Earphones with Mic, 3.5mm Audio Jack, 10mm Drivers, Phone/Tablet Compatible(Blue)',\n",
       "  'boAt Bassheads 900 Wired On Ear Headphones with Mic (Carbon Black)',\n",
       "  'boAt Rockerz 450 Bluetooth Wireless On Ear Headphones with Mic, Upto 15 Hours Playback, 40MM Drivers, Padded Ear Cushions ...',\n",
       "  'boAt Rockerz 510 Bluetooth Wireless Over Ear Headphones With Mic With Upto 20 Hours Playback, 50Mm Drivers, Padded Ear Cus...',\n",
       "  'boAt Rockerz 400 Bluetooth Wireless On Ear Headphones With Mic With Upto 8 Hours Playback & Soft Padded Ear Cushions(Blac...',\n",
       "  'boAt Rockerz 450 Bluetooth Wireless On Ear Headphones with Mic and Upto 15 Hours Playback, 40MM Drivers, Padded Ear Cushio...',\n",
       "  'pTron Pride Lite HBE (High Bass Earphones) in-Ear Wired Headphones with in-line Mic, 10mm Powerful Driver for Stereo Audi...',\n",
       "  'boAt Bassheads 102 in Ear Wired Earphones with Mic(Jazzy Blue)',\n",
       "  'Boult Audio Bass Buds Q2 Lightweight Stereo Wired Over Ear Headphones Set with Mic with Deep Bass, Comfortable Ear Cushion...',\n",
       "  'boAt Bassheads 242 in Ear Wired Earphones with Mic(Orange)',\n",
       "  'Philips Audio SHE1505 Wired in Ear Earphones with Mic (Black)',\n",
       "  'boAt Rockerz 370 Bluetooth Wireless On Ear Headphone with Mic (Fiery Red)'],\n",
       " 'rule_64ix': ['boAt Rockerz 450 Pro Upto 15 Hours Playback, ASAP Charge, 40MM Drivers, Padded Ear Cushions and Dual Modes Bluetooth Wireless On Ear Headphones with Mic (Luscious Black)',\n",
       "  'boAt Bassheads 900 Wired On Ear Headphones with Mic (Carbon Black)',\n",
       "  'boAt Rockerz 330 with ASAP Charge, Enhanced Bass, Metal Control Board, IPX5, Type C Port Voice Assistant Bluetooth Wireless in Ear Earphones with Mic (Active Black)',\n",
       "  'boAt Rockerz 550 Upto 20 Hours Playback, 50MM Drivers, Soft Padded Ear Cushions and Physical Noise Isolation Bluetooth Wireless Over Ear Headphones with Mic (Army Green)',\n",
       "  'Newly Launched Boult Audio AirBass Z20 TWS, 40H Playtime with ZenTM ENC, Fast Charging Type-C, IPX5 Water Resistant, Touch Controls and Voice Assistant Bluetooth Truly Wireless in Ear Earbuds (Black)',\n",
       "  'Boat Rockerz 425 Bluetooth Wireless Over Ear Headphones with Mic and Boat Signature Sound, Beast Mode for Gaming, Enx Tech, ASAP Charge, 25H Playtime, Bluetooth V5.2 (Active Black)']}"
      ]
     },
     "execution_count": 71,
     "metadata": {},
     "output_type": "execute_result"
    }
   ],
   "source": [
    "scraper.get_result_similar(url, grouped=True)"
   ]
  },
  {
   "cell_type": "code",
   "execution_count": 72,
   "metadata": {},
   "outputs": [],
   "source": [
    "scraper.set_rule_aliases({'rule_hsge':'Title','rule_gm6r':'Price'})\n",
    "scraper.keep_rules(['rule_hsge','rule_gm6r'])\n",
    "scraper.save('amazon-search')"
   ]
  },
  {
   "cell_type": "code",
   "execution_count": 73,
   "metadata": {},
   "outputs": [],
   "source": [
    "results=scraper.get_result_similar('https://www.amazon.in/s?k=mi+phones+under+7000',group_by_alias=True)"
   ]
  },
  {
   "cell_type": "code",
   "execution_count": 74,
   "metadata": {},
   "outputs": [
    {
     "data": {
      "text/plain": [
       "['Redmi 9A Sport (Carbon Black, 2GB RAM, 32GB Storage) | 2GHz Octa-core Helio G25 Processor | 5000 mAh Battery',\n",
       " 'Amazon\\'s Choicefor \"mi phones under 7000\"',\n",
       " 'Redmi 9A Sport (Metallic Blue, 2GB RAM, 32GB Storage) | 2GHz Octa-core Helio G25 Processor | 5000 mAh Battery',\n",
       " '(Renewed) Redmi 9A (Sea Blue, 2Gb Ram, 32Gb Storage)',\n",
       " 'Redmi 2GB RAM, 16GB Storage Mi 6A, Rose Gold',\n",
       " '(Renewed) Redmi 9A (Midnight Black, 2Gb Ram, 32Gb Storage)',\n",
       " 'Nillkin Case for Xiaomi Mi 10i (6.67\" Inch) Super Frosted Hard Back Cover PC White Color',\n",
       " 'Nillkin Case for Xiaomi Mi 10T 10 T/Mi 10T Pro Super Frosted Hard Back Cover PC (6.67\" Inch, Peacock Blue Color)',\n",
       " 'Nillkin Case for Xiaomi Mi 10i (6.67\" Inch) Nature Series Back Soft Flexible TPU White Color',\n",
       " 'Nillkin Case for Xiaomi Mi 11X 11 X / 11X Pro/Poco F3 (6.67\" Inch) CamShield Pro Slider Camera Close & Open Double Layered Protection TPU + PC Black Color',\n",
       " 'Nillkin Case for Xiaomi Mi 11 Ultra (6.81\" Inch) Textured Series Nylon Fiber Tough & Durable PC + TPU Material Luxury Protect Black',\n",
       " 'Nillkin Case for Xiaomi Mi 11 Ultra (6.81\" Inch) Super Frosted Hard Back Cover PC Peacock Blue Color',\n",
       " 'Nillkin Back Cover for Xiaomi Mi 11 Ultra (6.81 Inch) (Poly Carbonate | Blue | Textured)',\n",
       " 'Tecno Pop 5 LTE(Turquoise Cyan 2G+32GB)| 6.52\" HD+Dot Notch | 5000mAh | 8MP Dual Camera | Front Flash| IPX2 Splash Resistant',\n",
       " 'Nillkin Case for Xiaomi Mi 11 Lite 4G / 5G / 11 Lite NE 5G (6.55\" Inch) Qin Genuine Classic Leather Flip Folio + Card Slot Red Color',\n",
       " 'Nillkin Back Cover for Xiaomi Mi 11 Ultra (6.81 Inch) (Poly Carbonate | White | Textured)',\n",
       " 'Nillkin Case for Xiaomi Mi 11 Ultra (6.81\" Inch) Super Frosted Hard Back Cover PC Black Color']"
      ]
     },
     "execution_count": 74,
     "metadata": {},
     "output_type": "execute_result"
    }
   ],
   "source": [
    "results['Title']"
   ]
  },
  {
   "cell_type": "code",
   "execution_count": 77,
   "metadata": {},
   "outputs": [
    {
     "data": {
      "text/plain": [
       "['₹6,999',\n",
       " '₹8,499',\n",
       " '₹6,999',\n",
       " '₹7,999',\n",
       " '₹6,890',\n",
       " '₹15,999',\n",
       " '₹6,999',\n",
       " '₹6,999',\n",
       " '₹9,999',\n",
       " '₹1,399',\n",
       " '₹1,799',\n",
       " '₹1,599',\n",
       " '₹1,699',\n",
       " '₹899',\n",
       " '₹1,299',\n",
       " '₹1,999',\n",
       " '₹3,499',\n",
       " '₹1,999',\n",
       " '₹2,999',\n",
       " '₹545',\n",
       " '₹1,999',\n",
       " '₹1,199',\n",
       " '₹1,999',\n",
       " '₹6,599',\n",
       " '₹8,999',\n",
       " '₹1,799',\n",
       " '₹2,499',\n",
       " '₹1,799',\n",
       " '₹1,999',\n",
       " '₹499',\n",
       " '₹999']"
      ]
     },
     "execution_count": 77,
     "metadata": {},
     "output_type": "execute_result"
    }
   ],
   "source": [
    "results['Price']"
   ]
  },
  {
   "cell_type": "code",
   "execution_count": null,
   "metadata": {},
   "outputs": [],
   "source": []
  }
 ],
 "metadata": {
  "kernelspec": {
   "display_name": "Python 3",
   "language": "python",
   "name": "python3"
  },
  "language_info": {
   "codemirror_mode": {
    "name": "ipython",
    "version": 3
   },
   "file_extension": ".py",
   "mimetype": "text/x-python",
   "name": "python",
   "nbconvert_exporter": "python",
   "pygments_lexer": "ipython3",
   "version": "3.8.5"
  }
 },
 "nbformat": 4,
 "nbformat_minor": 4
}
