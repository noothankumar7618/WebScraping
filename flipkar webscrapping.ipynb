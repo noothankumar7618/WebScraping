{
 "cells": [
  {
   "cell_type": "code",
   "execution_count": 36,
   "metadata": {},
   "outputs": [],
   "source": [
    "#import library\n",
    "from autoscraper.auto_scraper import AutoScraper"
   ]
  },
  {
   "cell_type": "code",
   "execution_count": 37,
   "metadata": {},
   "outputs": [],
   "source": [
    "flipkart_url=\"https://www.flipkart.com/search?q=realme%20watches&otracker=search&otracker1=search&marketplace=FLIPKART&as-show=on&as=off\"\n",
    "fetch_list=['Auto Ryde D116 Watch Smartwatch','3.4','₹449']"
   ]
  },
  {
   "cell_type": "code",
   "execution_count": 38,
   "metadata": {},
   "outputs": [
    {
     "name": "stdout",
     "output_type": "stream",
     "text": [
      "['Auto Ryde id115 Smartwatch', 'IIVAAs T500 Bluetooth Calling Function Smartwatch', 'Stybits Smart Watch for Android iOS Phones Watch with Touch Screen& waterproof Smartwatch', 'Auto Ryde D116 Watch Smartwatch', 'Remaxa HealthTracker Waterproof SmartWatch For Men & Women (Pink) Smartwatch', 'Remaxa HealthTracker Waterproof SmartWatch For Men & Women Smartwatch', 'Remaxa HealthTracker Waterproof Digital SmartWatch For Men & Women Smartwatch', 'Auto Ryde M6 band Smartwatch', 'Calvin A1 Full Touch Screen Bluetooth Smartphones Support SIM Smartwatch', 'Auto Ryde 4G Calling Bluetooth Camera SIM Card Support Phone Smartwatch Smartwatch', 'Calvin Bluetooth Wireless Smart Watch for Heart Rate and BP Monitor Smartwatch', 'IIVAAs A1 Smartwatch (Black Strap, REGULAR) Smartwatch', 'Calvin 7 Pro Max Smart Watch Series 7 For Men & Women (BLACK, Free Size) Smartwatch', 'Kavya Enterprises Smart Watch for Android iOS Phones Watch with Touch Screen& waterproof Smartwatch', 'Auto Ryde W26+ black Smartwatch', '3.2', '3.1', '3', '3.4', '2', '4', '2.7', '₹475', '₹790', '₹1,029', '₹449', '₹1,083', '₹1,133', '₹499', '₹1,758', '₹539', '₹999', '₹1,443', '₹1,398', '₹1,299', '₹1,143', '₹621', '₹2,042']\n"
     ]
    }
   ],
   "source": [
    "scraper = AutoScraper()\n",
    "result = scraper.build(url=flipkart_url, wanted_list=fetch_list)\n",
    "print(result)"
   ]
  },
  {
   "cell_type": "code",
   "execution_count": 39,
   "metadata": {},
   "outputs": [
    {
     "data": {
      "text/plain": [
       "{'rule_z7pt': ['realme TechLife Watch R100 Bluetooth Calling 1.3',\n",
       "  'realme Smart Watch 2 with Superbright HD Display & 90 Sports Modes',\n",
       "  'DIZO Watch 2 Sports (by realme TechLife)',\n",
       "  'DIZO Watch R AMOLED with 45 mm Dial Size (by realme techLife)',\n",
       "  'realme Smart Watch S 1.3 Auto-bright Display with Metallic Dial Smartwatch'],\n",
       " 'rule_s4yi': ['realme TechLife Watch R100 Bluetooth Calling 1.3\" HD Touch Display & 100+ Sports Mode Smartwatch',\n",
       "  'realme TechLife Watch R100 Bluetooth Calling 1.3\" HD Touch Display & 100+ Sports Mode Smartwatch',\n",
       "  'realme TechLife Watch S100 1.69 HD Display with Temperature Sensor Smartwatch',\n",
       "  'realme TechLife Watch S100 1.69 HD Display with Temperature Sensor Smartwatch',\n",
       "  'realme Smart Watch 2 Pro 1.75\" HD Display & Dual Satellite GPS',\n",
       "  'realme Smart Watch 2 Pro 1.75\" HD Display & Dual Satellite GPS',\n",
       "  'realme Smart Watch 2 with Superbright HD Display & 90 Sports Modes',\n",
       "  'realme Smart Watch S 1.3\" Auto-bright Display with Metallic Dial',\n",
       "  'realme Smart Watch S 1.3 Auto-bright Display with Metallic Dial Smartwatch',\n",
       "  'realme Smart Watch 2 with Superbright HD Display & 90 Sports Modes Smartwatch',\n",
       "  'realme watch S Master Edition',\n",
       "  'realme Watch S Smartwatch',\n",
       "  'DIZO Watch D 1.8 inch Dynamic display with 550nits brightness (by realme techLife)',\n",
       "  'DIZO Watch D 1.8 inch Dynamic display with 550nits brightness (by realme techLife)',\n",
       "  'DIZO Watch D 1.8 inch Dynamic display with 550nits brightness (by realme techLife)',\n",
       "  'DIZO Watch 2 (by realme TechLife)',\n",
       "  'DIZO Watch 2 (by realme TechLife)',\n",
       "  'DIZO Watch 2 (by realme TechLife)',\n",
       "  'DIZO Watch 2 (by realme TechLife)',\n",
       "  'DIZO Watch 2 (by realme TechLife)',\n",
       "  'DIZO Watch R AMOLED with 45 mm Dial Size (by realme techLife)',\n",
       "  'DIZO Watch R AMOLED with 45 mm Dial Size (by realme techLife)',\n",
       "  'DIZO Watch R AMOLED with 45 mm Dial Size (by realme techLife)',\n",
       "  'DIZO Watch 2 Sports (by realme TechLife)'],\n",
       " 'rule_pusa': ['realme TechLife Watch R100 Bluetooth Calling 1.3',\n",
       "  'realme TechLife Watch R100 Bluetooth Calling 1.3',\n",
       "  'realme TechLife Watch S100 1.69 HD Display with Temperature Sensor Smartwatch',\n",
       "  'realme TechLife Watch S100 1.69 HD Display with Temperature Sensor Smartwatch',\n",
       "  'realme Smart Watch 2 Pro 1.75',\n",
       "  'realme Smart Watch 2 Pro 1.75',\n",
       "  'realme Smart Watch 2 with Superbright HD Display & 90 Sports Modes',\n",
       "  'realme Smart Watch S 1.3',\n",
       "  'realme Smart Watch S 1.3 Auto-bright Display with Metallic Dial Smartwatch',\n",
       "  'realme Smart Watch 2 with Superbright HD Display & 90 Sports Modes Smartwatch',\n",
       "  'realme watch S Master Edition',\n",
       "  'realme Watch S Smartwatch',\n",
       "  'DIZO Watch D 1.8 inch Dynamic display with 550nits brightness (by realme techLife)',\n",
       "  'DIZO Watch D 1.8 inch Dynamic display with 550nits brightness (by realme techLife)',\n",
       "  'DIZO Watch D 1.8 inch Dynamic display with 550nits brightness (by realme techLife)',\n",
       "  'DIZO Watch 2 (by realme TechLife)',\n",
       "  'DIZO Watch 2 (by realme TechLife)',\n",
       "  'DIZO Watch 2 (by realme TechLife)',\n",
       "  'DIZO Watch 2 (by realme TechLife)',\n",
       "  'DIZO Watch 2 (by realme TechLife)',\n",
       "  'DIZO Watch R AMOLED with 45 mm Dial Size (by realme techLife)',\n",
       "  'DIZO Watch R AMOLED with 45 mm Dial Size (by realme techLife)',\n",
       "  'DIZO Watch R AMOLED with 45 mm Dial Size (by realme techLife)',\n",
       "  'DIZO Watch 2 Sports (by realme TechLife)'],\n",
       " 'rule_udv4': ['4.4', '4.1', '4.1', '4.1', '4.3'],\n",
       " 'rule_ucsi': ['4.4',\n",
       "  '4.4',\n",
       "  '4.1',\n",
       "  '4.1',\n",
       "  '4.3',\n",
       "  '4.3',\n",
       "  '4.1',\n",
       "  '4.3',\n",
       "  '4.3',\n",
       "  '4.1',\n",
       "  '4.3',\n",
       "  '4.3',\n",
       "  '4.4',\n",
       "  '4.4',\n",
       "  '4.4',\n",
       "  '4.2',\n",
       "  '4.2',\n",
       "  '4.2',\n",
       "  '4.2',\n",
       "  '4.2',\n",
       "  '4.1',\n",
       "  '4.1',\n",
       "  '4.1',\n",
       "  '4.1'],\n",
       " 'rule_rziv': ['₹3,999', '₹3,499', '₹1,999', '₹3,799', '₹4,999'],\n",
       " 'rule_cvi3': ['₹3,999',\n",
       "  '₹3,999',\n",
       "  '₹2,499',\n",
       "  '₹2,499',\n",
       "  '₹4,974',\n",
       "  '₹4,609',\n",
       "  '₹3,499',\n",
       "  '₹4,974',\n",
       "  '₹4,999',\n",
       "  '₹3,499',\n",
       "  '₹5,999',\n",
       "  '₹6,467',\n",
       "  '₹2,499',\n",
       "  '₹2,499',\n",
       "  '₹2,499',\n",
       "  '₹2,699',\n",
       "  '₹2,699',\n",
       "  '₹2,699',\n",
       "  '₹2,699',\n",
       "  '₹2,699',\n",
       "  '₹3,799',\n",
       "  '₹3,999',\n",
       "  '₹3,799',\n",
       "  '₹1,999']}"
      ]
     },
     "execution_count": 39,
     "metadata": {},
     "output_type": "execute_result"
    }
   ],
   "source": [
    "scraper.get_result_similar(url,grouped=True)"
   ]
  },
  {
   "cell_type": "code",
   "execution_count": 40,
   "metadata": {},
   "outputs": [],
   "source": [
    "scraper.set_rule_aliases({'rule_z7pt':'Title','rule_cvi3':'Price','rule_ucsi':'Rating'})"
   ]
  },
  {
   "cell_type": "code",
   "execution_count": 41,
   "metadata": {},
   "outputs": [],
   "source": [
    "scraper.keep_rules(['rule_z7pt','rule_cvi3','rule_ucsi'])\n"
   ]
  },
  {
   "cell_type": "code",
   "execution_count": 42,
   "metadata": {},
   "outputs": [],
   "source": [
    "iphone_url=\"https://www.flipkart.com/search?q=iphone+watches+for+women&sid=ajy%2Cbuh&as=on&as-show=on&otracker=AS_QueryStore_OrganicAutoSuggest_1_14_na_na_na&otracker1=AS_QueryStore_OrganicAutoSuggest_1_14_na_na_na&as-pos=1&as-type=RECENT&suggestionId=iphone+watches+for+women%7CSmart+Watches&requestId=b65ff77a-e245-4291-90d5-a8cbe123853a&as-searchtext=iphone%20watches\""
   ]
  },
  {
   "cell_type": "code",
   "execution_count": 43,
   "metadata": {},
   "outputs": [],
   "source": [
    "results=scraper.get_result_similar(iphone_url,group_by_alias=True)"
   ]
  },
  {
   "cell_type": "code",
   "execution_count": 44,
   "metadata": {},
   "outputs": [
    {
     "data": {
      "text/plain": [
       "['HealthMax HMS02-GD phone Smartwatch',\n",
       " 'Sportzee GT08BL010 Notifier Health Smartwatch',\n",
       " 'klassy dz09 Smartwatch',\n",
       " 'Sportzee GT08SL008 Notifier Health Smartwatch',\n",
       " 'HealthMax HMS02-BK phone Smartwatch']"
      ]
     },
     "execution_count": 44,
     "metadata": {},
     "output_type": "execute_result"
    }
   ],
   "source": [
    "results['Title']"
   ]
  },
  {
   "cell_type": "code",
   "execution_count": 45,
   "metadata": {},
   "outputs": [
    {
     "data": {
      "text/plain": [
       "['₹848',\n",
       " '₹849',\n",
       " '₹849',\n",
       " '₹849',\n",
       " '₹849',\n",
       " '₹2,000',\n",
       " '₹1,199',\n",
       " '₹999',\n",
       " '₹999',\n",
       " '₹999',\n",
       " '₹2,000',\n",
       " '₹999',\n",
       " '₹899',\n",
       " '₹990',\n",
       " '₹939',\n",
       " '₹869',\n",
       " '₹2,000',\n",
       " '₹2,000',\n",
       " '₹999',\n",
       " '₹2,000',\n",
       " '₹2,000',\n",
       " '₹2,000',\n",
       " '₹849']"
      ]
     },
     "execution_count": 45,
     "metadata": {},
     "output_type": "execute_result"
    }
   ],
   "source": [
    "results['Price']"
   ]
  },
  {
   "cell_type": "code",
   "execution_count": 47,
   "metadata": {},
   "outputs": [
    {
     "data": {
      "text/plain": [
       "['3.5',\n",
       " '3.6',\n",
       " '3.5',\n",
       " '3.5',\n",
       " '3.6',\n",
       " '3.2',\n",
       " '3.1',\n",
       " '3.4',\n",
       " '3.4',\n",
       " '3.4',\n",
       " '3.2',\n",
       " '3.5',\n",
       " '3.5',\n",
       " '3.4',\n",
       " '3.5',\n",
       " '3.4',\n",
       " '3.1',\n",
       " '3.2',\n",
       " '3.4',\n",
       " '3',\n",
       " '2.7',\n",
       " '3.1',\n",
       " '3.4',\n",
       " '3.4']"
      ]
     },
     "execution_count": 47,
     "metadata": {},
     "output_type": "execute_result"
    }
   ],
   "source": [
    "results['Rating']"
   ]
  },
  {
   "cell_type": "code",
   "execution_count": 57,
   "metadata": {},
   "outputs": [
    {
     "name": "stdout",
     "output_type": "stream",
     "text": [
      "[2]\n",
      "[1, 3]\n"
     ]
    }
   ],
   "source": [
    "lis=[None,1,2,3,'sard','dres']\n",
    "cleaned_list=[i for i in lis if type(i)==int]\n",
    "even_list=[]\n",
    "odd_list=[]\n",
    "for i in cleaned_list:\n",
    "    if i%2==0:\n",
    "        even_list.append(i)\n",
    "    else:\n",
    "        odd_list.append(i)\n",
    "print(even_list)\n",
    "print(odd_list)"
   ]
  },
  {
   "cell_type": "code",
   "execution_count": null,
   "metadata": {},
   "outputs": [],
   "source": []
  }
 ],
 "metadata": {
  "kernelspec": {
   "display_name": "Python 3",
   "language": "python",
   "name": "python3"
  },
  "language_info": {
   "codemirror_mode": {
    "name": "ipython",
    "version": 3
   },
   "file_extension": ".py",
   "mimetype": "text/x-python",
   "name": "python",
   "nbconvert_exporter": "python",
   "pygments_lexer": "ipython3",
   "version": "3.8.5"
  }
 },
 "nbformat": 4,
 "nbformat_minor": 4
}
